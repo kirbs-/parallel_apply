{
 "cells": [
  {
   "cell_type": "code",
   "execution_count": 2,
   "id": "b0a9f235-ec24-4603-b793-9c301b121862",
   "metadata": {},
   "outputs": [],
   "source": [
    "%load_ext autoreload"
   ]
  },
  {
   "cell_type": "code",
   "execution_count": 3,
   "id": "5b78ee20-67ae-4719-9ce3-60df42681ae9",
   "metadata": {},
   "outputs": [],
   "source": [
    "autoreload 2"
   ]
  },
  {
   "cell_type": "code",
   "execution_count": 27,
   "id": "3b66eaf2-6b7b-4886-98b3-f1ac09ed7b14",
   "metadata": {},
   "outputs": [],
   "source": [
    "import pandas as pd\n",
    "from tqdm import tqdm\n",
    "tqdm.pandas()"
   ]
  },
  {
   "cell_type": "code",
   "execution_count": 5,
   "id": "c863c006-c480-4b29-b6c1-8556baf4d62d",
   "metadata": {},
   "outputs": [],
   "source": [
    "import parallel_apply"
   ]
  },
  {
   "cell_type": "code",
   "execution_count": 6,
   "id": "f77c7412-3b32-4111-88e2-42120876cf54",
   "metadata": {},
   "outputs": [],
   "source": [
    "from a import test"
   ]
  },
  {
   "cell_type": "code",
   "execution_count": 48,
   "id": "f433fdd6-a86c-43f1-a9fe-c5021534d099",
   "metadata": {},
   "outputs": [],
   "source": [
    "df = pd.DataFrame(list(range(1, 10000000)))"
   ]
  },
  {
   "cell_type": "code",
   "execution_count": 49,
   "id": "35c0889c-5d63-4620-8638-87857097fcd9",
   "metadata": {},
   "outputs": [],
   "source": [
    "df['b'] = 'b'"
   ]
  },
  {
   "cell_type": "code",
   "execution_count": 50,
   "id": "2e71fe37-9dae-4b0a-93ff-3fc25092e5d2",
   "metadata": {
    "scrolled": true,
    "tags": []
   },
   "outputs": [
    {
     "name": "stderr",
     "output_type": "stream",
     "text": [
      "100%|█████████████████████████████| 9999999/9999999 [00:39<00:00, 256291.81it/s]\n"
     ]
    }
   ],
   "source": [
    "res = df.parallel_apply(test)"
   ]
  },
  {
   "cell_type": "code",
   "execution_count": 30,
   "id": "64da6213-e35a-41e8-9ac0-39d8717e3929",
   "metadata": {
    "scrolled": true,
    "tags": []
   },
   "outputs": [
    {
     "name": "stderr",
     "output_type": "stream",
     "text": [
      "100%|█████████████████████████████| 9999999/9999999 [00:46<00:00, 214587.48it/s]\n"
     ]
    }
   ],
   "source": [
    "# to_dict()\n",
    "res = df.parallel_apply(test)"
   ]
  },
  {
   "cell_type": "code",
   "execution_count": 28,
   "id": "66feee80-ba2b-48c0-b78a-35ff997b971f",
   "metadata": {
    "scrolled": true,
    "tags": []
   },
   "outputs": [
    {
     "name": "stderr",
     "output_type": "stream",
     "text": [
      "  1%|▏                                | 59744/9999999 [00:14<39:00, 4246.38it/s]\n",
      "\n",
      "KeyboardInterrupt\n",
      "\n"
     ]
    }
   ],
   "source": [
    "res = df.progress_apply(test, axis=1)"
   ]
  },
  {
   "cell_type": "code",
   "execution_count": 47,
   "id": "1eac80e4-483d-401f-b7a8-e5d56c7e1916",
   "metadata": {},
   "outputs": [
    {
     "data": {
      "text/plain": [
       "0            {0: 1, 'b': 'b'}_h\n",
       "1            {0: 2, 'b': 'b'}_h\n",
       "2            {0: 3, 'b': 'b'}_h\n",
       "3            {0: 4, 'b': 'b'}_h\n",
       "4            {0: 5, 'b': 'b'}_h\n",
       "                  ...          \n",
       "99994    {0: 99995, 'b': 'b'}_h\n",
       "99995    {0: 99996, 'b': 'b'}_h\n",
       "99996    {0: 99997, 'b': 'b'}_h\n",
       "99997    {0: 99998, 'b': 'b'}_h\n",
       "99998    {0: 99999, 'b': 'b'}_h\n",
       "Length: 99999, dtype: object"
      ]
     },
     "execution_count": 47,
     "metadata": {},
     "output_type": "execute_result"
    }
   ],
   "source": [
    "res"
   ]
  },
  {
   "cell_type": "code",
   "execution_count": 41,
   "id": "1f6d44f0-73d6-4e64-98f0-4204cd2845ba",
   "metadata": {},
   "outputs": [
    {
     "data": {
      "text/plain": [
       "{0: array([1, 'b'], dtype=object), 'b': array([2, 'b'], dtype=object)}"
      ]
     },
     "execution_count": 41,
     "metadata": {},
     "output_type": "execute_result"
    }
   ],
   "source": [
    "dict(zip(df.columns.values, df.values))"
   ]
  },
  {
   "cell_type": "code",
   "execution_count": 36,
   "id": "309a490b-426b-4443-92fd-a8e5a55bef68",
   "metadata": {},
   "outputs": [
    {
     "data": {
      "text/plain": [
       "array([[    1],\n",
       "       [    2],\n",
       "       [    3],\n",
       "       ...,\n",
       "       [99997],\n",
       "       [99998],\n",
       "       [99999]])"
      ]
     },
     "execution_count": 36,
     "metadata": {},
     "output_type": "execute_result"
    }
   ],
   "source": [
    "df.values"
   ]
  },
  {
   "cell_type": "code",
   "execution_count": 16,
   "id": "f9d2a03e-7fa7-4a5f-8d83-9a7370cb966f",
   "metadata": {},
   "outputs": [
    {
     "data": {
      "text/plain": [
       "array([0, 'b'], dtype=object)"
      ]
     },
     "execution_count": 16,
     "metadata": {},
     "output_type": "execute_result"
    }
   ],
   "source": [
    "df.columns.values"
   ]
  },
  {
   "cell_type": "code",
   "execution_count": 31,
   "id": "6ddef342-31e6-4f51-845d-80dedcb9b980",
   "metadata": {},
   "outputs": [
    {
     "name": "stdout",
     "output_type": "stream",
     "text": [
      "22.7 s ± 318 ms per loop (mean ± std. dev. of 7 runs, 1 loop each)\n"
     ]
    }
   ],
   "source": [
    "%timeit df.to_dict(orient='records')"
   ]
  },
  {
   "cell_type": "code",
   "execution_count": 43,
   "id": "07c2cccb-06fc-4186-8b08-0358a628fedb",
   "metadata": {},
   "outputs": [],
   "source": [
    "def _iter(df):\n",
    "    for i in df.values:\n",
    "        yield dict(zip(df.columns, i))"
   ]
  },
  {
   "cell_type": "code",
   "execution_count": null,
   "id": "36b85979-cf3e-4341-b5b9-238741ac98f5",
   "metadata": {},
   "outputs": [],
   "source": [
    "for i in range(3):\n",
    "    print(list(_iter(df)))"
   ]
  },
  {
   "cell_type": "code",
   "execution_count": null,
   "id": "a6123e10-0eba-4e72-84b6-d1356239e8a8",
   "metadata": {},
   "outputs": [],
   "source": []
  }
 ],
 "metadata": {
  "kernelspec": {
   "display_name": "papply",
   "language": "python",
   "name": "papply"
  },
  "language_info": {
   "codemirror_mode": {
    "name": "ipython",
    "version": 3
   },
   "file_extension": ".py",
   "mimetype": "text/x-python",
   "name": "python",
   "nbconvert_exporter": "python",
   "pygments_lexer": "ipython3",
   "version": "3.9.7"
  }
 },
 "nbformat": 4,
 "nbformat_minor": 5
}
